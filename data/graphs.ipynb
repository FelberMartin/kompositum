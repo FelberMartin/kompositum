{
 "cells": [
  {
   "cell_type": "code",
   "execution_count": 71,
   "metadata": {},
   "outputs": [],
   "source": [
    "# Using the filterd_compounds.csv file, this script creates a graph of the compounds and their components.\n",
    "# A compound consists of two components, named modifier and head. The modifier is the first word in the compound, and the head is the second word.\n",
    "# E.g. the compound \"Apfelbaum\" consists of the modifier \"Apfel\" and the head \"Baum\".\n",
    "# Build a graph where the components are the nodes and the compounds are the edges.\n",
    "\n",
    "import pandas as pd\n",
    "import matplotlib.pyplot as plt\n",
    "import networkx as nx\n",
    "\n",
    "\n",
    "\n",
    "# Read the filtered_compounds.csv file\n",
    "df = pd.read_csv('compounds_data/filtered_compounds.csv', keep_default_na=False, na_values=[''])\n",
    "\n",
    "# Filter the df to only contain rows with a frequency_class of <= 12\n",
    "df = df[df['frequency_class'] <= 12]\n",
    "\n",
    "# First use a simple graph with only 5 compounds\n",
    "# Therefore create a new dataframe with custom data\n",
    "# df = pd.DataFrame(columns=['modifier', 'head'])\n",
    "# df.loc[0] = ['Apfel', 'Baum']\n",
    "# df.loc[1] = ['Birne', 'Baum']\n",
    "# df.loc[2] = ['Kirsch', 'Baum']\n",
    "# df.loc[3] = ['Apfel', 'Kuchen']\n",
    "\n",
    "\n",
    "# Create a graph\n",
    "G = nx.Graph()\n",
    "\n",
    "# Add the nodes\n",
    "G.add_nodes_from(df['modifier'])\n",
    "G.add_nodes_from(df['head'])\n",
    "\n",
    "# Add the edges\n",
    "for index, row in df.iterrows():\n",
    "    # Add the frequency as an attribute to the edge\n",
    "    G.add_edge(row['modifier'], row['head'], title=row['compound'], frequency=row['frequency_class'])\n",
    "\n",
    "# Export the graph as a gexf file\n",
    "nx.write_gexf(G, \"compounds_data/compounds_graph.gexf\")\n"
   ]
  }
 ],
 "metadata": {
  "kernelspec": {
   "display_name": "Python 3",
   "language": "python",
   "name": "python3"
  },
  "language_info": {
   "codemirror_mode": {
    "name": "ipython",
    "version": 3
   },
   "file_extension": ".py",
   "mimetype": "text/x-python",
   "name": "python",
   "nbconvert_exporter": "python",
   "pygments_lexer": "ipython3",
   "version": "3.10.5"
  }
 },
 "nbformat": 4,
 "nbformat_minor": 2
}
