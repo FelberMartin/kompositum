{
 "cells": [
  {
   "cell_type": "code",
   "execution_count": 1,
   "metadata": {},
   "outputs": [],
   "source": [
    "import pandas as pd\n",
    "\n",
    "# This notebook cleanses the data (removing duplicates, compounds with hyphens, spaces, etc.)."
   ]
  },
  {
   "cell_type": "code",
   "execution_count": 2,
   "metadata": {},
   "outputs": [
    {
     "name": "stdout",
     "output_type": "stream",
     "text": [
      "<bound method NDFrame.head of                    compound modifier1(|modifier2)        head\n",
      "0          10000-Meter-Lauf           10000 Meter        Lauf\n",
      "1           1000-Jahr-Feier             1000 Jahr       Feier\n",
      "2           1000-Meter-Lauf            1000 Meter        Lauf\n",
      "3            100-Jahr-Feier              100 Jahr       Feier\n",
      "4         100-Jahr-Jubiläum              100 Jahr    Jubiläum\n",
      "...                     ...                   ...         ...\n",
      "121859          Zypressenöl              Zypresse          Öl\n",
      "121860  Zypressenwolfsmilch              Zypresse  Wolfsmilch\n",
      "121861   Zytologieassistent             Zytologie   Assistent\n",
      "121862           Zytoplasma                  zyto      Plasma\n",
      "121863   Zytoplasmafortsatz            Zytoplasma    Fortsatz\n",
      "\n",
      "[121864 rows x 3 columns]>\n"
     ]
    },
    {
     "data": {
      "text/plain": [
       "<bound method NDFrame.head of                    compound     modifier        head\n",
       "0          10000-Meter-Lauf  10000 Meter        Lauf\n",
       "1           1000-Jahr-Feier    1000 Jahr       Feier\n",
       "2           1000-Meter-Lauf   1000 Meter        Lauf\n",
       "3            100-Jahr-Feier     100 Jahr       Feier\n",
       "4         100-Jahr-Jubiläum     100 Jahr    Jubiläum\n",
       "...                     ...          ...         ...\n",
       "121859          Zypressenöl     Zypresse          Öl\n",
       "121860  Zypressenwolfsmilch     Zypresse  Wolfsmilch\n",
       "121861   Zytologieassistent    Zytologie   Assistent\n",
       "121862           Zytoplasma         zyto      Plasma\n",
       "121863   Zytoplasmafortsatz   Zytoplasma    Fortsatz\n",
       "\n",
       "[121864 rows x 3 columns]>"
      ]
     },
     "execution_count": 2,
     "metadata": {},
     "output_type": "execute_result"
    }
   ],
   "source": [
    "# Some of the compounds have \"Null\" or \"null\" as values in the columns, these should not be treated as NaN\n",
    "df = pd.read_csv(\"compounds_data/all_compounds.csv\", keep_default_na=False)\n",
    "print(df.head)\n",
    "\n",
    "# Function to extract the desired modifier: try to only keep the uppercase modifier, if present\n",
    "def extract_modifier(modifiers):\n",
    "    modifiers_list = modifiers.split('|')\n",
    "    if len(modifiers_list) == 1:\n",
    "        return modifiers_list[0]\n",
    "    \n",
    "    if modifiers_list[0][0].isupper():\n",
    "        return modifiers_list[0]\n",
    "    \n",
    "    return modifiers_list[1]\n",
    "\n",
    "# Apply the function to create the \"modifier\" column\n",
    "df[\"modifier\"] = df[\"modifier1(|modifier2)\"].apply(extract_modifier)\n",
    "df = df[[\"compound\", \"modifier\", \"head\"]]\n",
    "df.head"
   ]
  },
  {
   "cell_type": "code",
   "execution_count": 3,
   "metadata": {},
   "outputs": [
    {
     "name": "stdout",
     "output_type": "stream",
     "text": [
      "compound    0\n",
      "modifier    0\n",
      "head        0\n",
      "dtype: int64\n",
      "Empty DataFrame\n",
      "Columns: [compound, modifier, head]\n",
      "Index: []\n"
     ]
    }
   ],
   "source": [
    "# Check if there are any null values\n",
    "print(df.isnull().sum())\n",
    "\n",
    "# Print the rows with null values in the modifier1 column\n",
    "print(df[df[\"modifier\"].isnull()])"
   ]
  },
  {
   "cell_type": "code",
   "execution_count": 4,
   "metadata": {},
   "outputs": [
    {
     "name": "stdout",
     "output_type": "stream",
     "text": [
      "<bound method NDFrame.head of                    compound    modifier        head\n",
      "56               Aalbestand         Aal     Bestand\n",
      "57                  Aalfang         Aal        Fang\n",
      "58                 Aalfisch         Aal       Fisch\n",
      "59                Aalmutter         Aal      Mutter\n",
      "60                Aalquappe         Aal      Quappe\n",
      "...                     ...         ...         ...\n",
      "121859          Zypressenöl    Zypresse          Öl\n",
      "121860  Zypressenwolfsmilch    Zypresse  Wolfsmilch\n",
      "121861   Zytologieassistent   Zytologie   Assistent\n",
      "121862           Zytoplasma        zyto      Plasma\n",
      "121863   Zytoplasmafortsatz  Zytoplasma    Fortsatz\n",
      "\n",
      "[119105 rows x 3 columns]>\n",
      "121864\n",
      "119105\n",
      "Empty DataFrame\n",
      "Columns: [compound, modifier, head]\n",
      "Index: []\n",
      "Empty DataFrame\n",
      "Columns: [compound, modifier, head]\n",
      "Index: []\n"
     ]
    }
   ],
   "source": [
    "# Remove compounds with hyphens (-) in them\n",
    "df_without_hyphens = df[~df[\"compound\"].str.contains(\"-\")]\n",
    "print(df_without_hyphens.head)\n",
    "\n",
    "# Compare size of dataframes\n",
    "print(len(df))\n",
    "print(len(df_without_hyphens))\n",
    "\n",
    "# Check if there are any hyphens in the modifier or head columns\n",
    "print(df_without_hyphens[df_without_hyphens[\"modifier\"].str.contains(\"-\")])\n",
    "print(df_without_hyphens[df_without_hyphens[\"head\"].str.contains(\"-\")])"
   ]
  },
  {
   "cell_type": "code",
   "execution_count": 5,
   "metadata": {},
   "outputs": [
    {
     "name": "stdout",
     "output_type": "stream",
     "text": [
      "True\n",
      "              compound modifier      head\n",
      "922         Abwehrchef   Abwehr      Chef\n",
      "923         Abwehrchef   Abwehr      Chef\n",
      "955     Abwehrstellung   Abwehr  Stellung\n",
      "956     Abwehrstellung   Abwehr  Stellung\n",
      "957     Abwehrstellung   Abwehr  Stellung\n",
      "40052       Grünanteil     Grün    Anteil\n",
      "40053       Grünanteil     Grün    Anteil\n",
      "41200        Hagelkorn    Hagel      Korn\n",
      "41201        Hagelkorn    Hagel      Korn\n",
      "56729         Kreuzweg    Kreuz       Weg\n",
      "56728         Kreuzweg    Kreuz       Weg\n",
      "60197         Laufwerk     Lauf      Werk\n",
      "60199         Laufwerk     Lauf      Werk\n",
      "98012        Stammbuch  stammen      Buch\n",
      "98014        Stammbuch  stammen      Buch\n",
      "106324     Trommelfell  Trommel      Fell\n",
      "106325     Trommelfell  Trommel      Fell\n",
      "120168       Zielmarke     Ziel     Marke\n",
      "120169       Zielmarke     Ziel     Marke\n"
     ]
    }
   ],
   "source": [
    "# Check if there are any duplicates\n",
    "print(df_without_hyphens.duplicated().any())\n",
    "\n",
    "# Print the duplicates\n",
    "print(df_without_hyphens[df_without_hyphens.duplicated(keep=False)].sort_values(by=[\"compound\"]))\n",
    "\n",
    "# Remove the duplicates\n",
    "df_without_duplicates = df_without_hyphens.drop_duplicates()"
   ]
  },
  {
   "cell_type": "code",
   "execution_count": 6,
   "metadata": {},
   "outputs": [
    {
     "name": "stdout",
     "output_type": "stream",
     "text": [
      "                      compound        modifier             head\n",
      "89            Abbiegeassistent        abbiegen        Assistent\n",
      "90      Abbiegeassistenzsystem        abbiegen  Assistenzsystem\n",
      "91                 Abbiegespur        abbiegen             Spur\n",
      "95                Abblendlicht       abblenden            Licht\n",
      "117                Abdeckcreme        abdecken            Creme\n",
      "...                        ...             ...              ...\n",
      "121830           Zwölftonreihe           zwölf         Tonreihe\n",
      "121831         Zwölftontechnik       zwölf Ton          Technik\n",
      "121832           Zwölfzylinder           zwölf         Zylinder\n",
      "121833      Zwölfzylindermotor  zwölf Zylinder            Motor\n",
      "121862              Zytoplasma            zyto           Plasma\n",
      "\n",
      "[18086 rows x 3 columns]\n",
      "                         compound              modifier   head\n",
      "4323                  Archivwesen                Archiv  wesen\n",
      "4413                   Armenwesen                  Arme  wesen\n",
      "5737             Ausbildungswesen            Ausbildung  wesen\n",
      "7482                    Bahnwesen                  Bahn  wesen\n",
      "7806                  Bankenwesen                  Bank  wesen\n",
      "...                           ...                   ...    ...\n",
      "117766  Wirtschaftsingenieurwesen  Wirtschaftsingenieur  wesen\n",
      "118498              Wohnungswesen               Wohnung  wesen\n",
      "119730              Zeitungswesen               Zeitung  wesen\n",
      "120673                  Zollwesen                  Zoll  wesen\n",
      "121137                 Zunftwesen                 Zunft  wesen\n",
      "\n",
      "[102 rows x 3 columns]\n"
     ]
    },
    {
     "data": {
      "text/html": [
       "<div>\n",
       "<style scoped>\n",
       "    .dataframe tbody tr th:only-of-type {\n",
       "        vertical-align: middle;\n",
       "    }\n",
       "\n",
       "    .dataframe tbody tr th {\n",
       "        vertical-align: top;\n",
       "    }\n",
       "\n",
       "    .dataframe thead th {\n",
       "        text-align: right;\n",
       "    }\n",
       "</style>\n",
       "<table border=\"1\" class=\"dataframe\">\n",
       "  <thead>\n",
       "    <tr style=\"text-align: right;\">\n",
       "      <th></th>\n",
       "      <th>compound</th>\n",
       "      <th>modifier</th>\n",
       "    </tr>\n",
       "    <tr>\n",
       "      <th>head</th>\n",
       "      <th></th>\n",
       "      <th></th>\n",
       "    </tr>\n",
       "  </thead>\n",
       "  <tbody>\n",
       "    <tr>\n",
       "      <th>wesen</th>\n",
       "      <td>90</td>\n",
       "      <td>90</td>\n",
       "    </tr>\n",
       "    <tr>\n",
       "      <th>logie</th>\n",
       "      <td>3</td>\n",
       "      <td>3</td>\n",
       "    </tr>\n",
       "    <tr>\n",
       "      <th>builder</th>\n",
       "      <td>1</td>\n",
       "      <td>1</td>\n",
       "    </tr>\n",
       "    <tr>\n",
       "      <th>click</th>\n",
       "      <td>1</td>\n",
       "      <td>1</td>\n",
       "    </tr>\n",
       "    <tr>\n",
       "      <th>core</th>\n",
       "      <td>1</td>\n",
       "      <td>1</td>\n",
       "    </tr>\n",
       "    <tr>\n",
       "      <th>groß</th>\n",
       "      <td>1</td>\n",
       "      <td>1</td>\n",
       "    </tr>\n",
       "    <tr>\n",
       "      <th>hoster</th>\n",
       "      <td>1</td>\n",
       "      <td>1</td>\n",
       "    </tr>\n",
       "    <tr>\n",
       "      <th>kauen</th>\n",
       "      <td>1</td>\n",
       "      <td>1</td>\n",
       "    </tr>\n",
       "    <tr>\n",
       "      <th>line</th>\n",
       "      <td>1</td>\n",
       "      <td>1</td>\n",
       "    </tr>\n",
       "    <tr>\n",
       "      <th>play</th>\n",
       "      <td>1</td>\n",
       "      <td>1</td>\n",
       "    </tr>\n",
       "    <tr>\n",
       "      <th>writer</th>\n",
       "      <td>1</td>\n",
       "      <td>1</td>\n",
       "    </tr>\n",
       "  </tbody>\n",
       "</table>\n",
       "</div>"
      ],
      "text/plain": [
       "         compound  modifier\n",
       "head                       \n",
       "wesen          90        90\n",
       "logie           3         3\n",
       "builder         1         1\n",
       "click           1         1\n",
       "core            1         1\n",
       "groß            1         1\n",
       "hoster          1         1\n",
       "kauen           1         1\n",
       "line            1         1\n",
       "play            1         1\n",
       "writer          1         1"
      ]
     },
     "execution_count": 6,
     "metadata": {},
     "output_type": "execute_result"
    }
   ],
   "source": [
    "# Print all the rows where modifier or head starts with a lowercase letter\n",
    "print(df_without_duplicates[df_without_duplicates[\"modifier\"].str[0].str.islower()])\n",
    "print(df_without_duplicates[df_without_duplicates[\"head\"].str[0].str.islower()])\n",
    "\n",
    "df_without_duplicates[df_without_duplicates[\"head\"].str[0].str.islower()].groupby(\"head\").count().sort_values(by=[\"compound\"], ascending=False)\n"
   ]
  },
  {
   "cell_type": "code",
   "execution_count": 7,
   "metadata": {},
   "outputs": [
    {
     "name": "stdout",
     "output_type": "stream",
     "text": [
      "               compound modifier   head\n",
      "32016         Free Jazz     free   Jazz\n",
      "48565  Irakischer Dinar     Irak  Dinar\n",
      "85635       Rotary Club   rotary   Club\n",
      "                      compound           modifier     head\n",
      "1042      Achthundertmeterlauf  achthundert Meter     Lauf\n",
      "1043    Achthundertmeterrennen  achthundert Meter   Rennen\n",
      "1046            Achtstundentag        acht Stunde      Tag\n",
      "1050         Achtzylindermotor      acht Zylinder    Motor\n",
      "1272             Affenbrotbaum          Affe Brot     Baum\n",
      "...                        ...                ...      ...\n",
      "121826         Zwölffingerdarm       zwölf Finger     Darm\n",
      "121828         Zwölfmeilenzone        zwölf Meile     Zone\n",
      "121829           Zwölftonmusik          zwölf Ton    Musik\n",
      "121831         Zwölftontechnik          zwölf Ton  Technik\n",
      "121833      Zwölfzylindermotor     zwölf Zylinder    Motor\n",
      "\n",
      "[902 rows x 3 columns]\n",
      "Empty DataFrame\n",
      "Columns: [compound, modifier, head]\n",
      "Index: []\n",
      "118190\n"
     ]
    }
   ],
   "source": [
    "# Print rows with spaces in one of the columns and then remove these rows\n",
    "print(df_without_duplicates[df_without_duplicates[\"compound\"].str.contains(\" \")])\n",
    "print(df_without_duplicates[df_without_duplicates[\"modifier\"].str.contains(\" \")])\n",
    "print(df_without_duplicates[df_without_duplicates[\"head\"].str.contains(\" \")])\n",
    "\n",
    "df_without_spaces = df_without_duplicates[~df_without_duplicates[\"compound\"].str.contains(\" \")]\n",
    "df_without_spaces = df_without_spaces[~df_without_spaces[\"modifier\"].str.contains(\" \")]\n",
    "df_without_spaces = df_without_spaces[~df_without_spaces[\"head\"].str.contains(\" \")]\n",
    "print(len(df_without_spaces))"
   ]
  },
  {
   "cell_type": "code",
   "execution_count": 8,
   "metadata": {},
   "outputs": [],
   "source": [
    "# Save the dataframe to a csv file\n",
    "df_without_spaces.to_csv(\"compounds_data/cleansed_compounds.csv\", index=False)"
   ]
  }
 ],
 "metadata": {
  "kernelspec": {
   "display_name": "Python 3",
   "language": "python",
   "name": "python3"
  },
  "language_info": {
   "codemirror_mode": {
    "name": "ipython",
    "version": 3
   },
   "file_extension": ".py",
   "mimetype": "text/x-python",
   "name": "python",
   "nbconvert_exporter": "python",
   "pygments_lexer": "ipython3",
   "version": "3.10.5"
  }
 },
 "nbformat": 4,
 "nbformat_minor": 2
}
