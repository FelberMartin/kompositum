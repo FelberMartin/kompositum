{
 "cells": [
  {
   "cell_type": "code",
   "execution_count": 16,
   "metadata": {},
   "outputs": [],
   "source": [
    "from nltk.probability import FreqDist\n",
    "from nltk import bigrams\n",
    "\n",
    "# Read the corpus data\n",
    "with open('./frequency_data/SubtlexUS/Subtlex.US.txt', encoding='iso8859_2') as f:\n",
    "    lines = f.readlines()\n",
    "\n",
    "    # Build the corpus\n",
    "    # Split lines into words and lowercase them.\n",
    "    split_lines = [line.split() for line in lines]\n",
    "    words = [word.lower() for line in split_lines for word in line]\n",
    "\n",
    "    # Strip punctuation and remove non-alphabetic words\n",
    "    words = [word.strip(\",.:;\\\"'?!()*‘’\") for word in words]\n",
    "    words = [word for word in words if word.replace(\"-\", \"\").isalpha()]\n",
    "    \n",
    "    # Build both frequency and bigram frequency distributions\n",
    "    frequency_dist = FreqDist(words)\n",
    "    bigram_frequency_dist = FreqDist(bigrams(words))\n",
    "\n"
   ]
  },
  {
   "cell_type": "code",
   "execution_count": 17,
   "metadata": {},
   "outputs": [
    {
     "name": "stdout",
     "output_type": "stream",
     "text": [
      "Set of all characters in the corpus:\n",
      "{'ť', 'u', 'ĺ', 'ž', 'î', 'o', 'ů', 'ř', 'c', 'đ', 'b', 'ş', 'ć', 'ý', 'ď', 'é', 'd', 'v', 'ô', 'č', 'j', 'â', 'ą', 'ź', 'ö', 't', 'á', 'h', 'm', 'x', 'ň', 's', 'ő', 'ě', 'ˇ', 'y', 'f', 'ú', 'l', 'r', 'ę', 'ł', 'ü', 'ó', 'i', 'ű', 'ă', 'q', 'ś', 'n', '-', 'ż', 'k', 'í', 'ß', 'ŕ', 'ń', 'a', 'ľ', 'p', 'e', 'ä', 'g', 'š', 'ç', 'w', 'z', 'ë', 'ţ'}\n"
     ]
    }
   ],
   "source": [
    "# Print a set of all the characters in the corpus\n",
    "print(\"Set of all characters in the corpus:\")\n",
    "\n",
    "# Create a set of all characters in the corpus\n",
    "characters = set()\n",
    "for word in words:\n",
    "    for character in word:\n",
    "        characters.add(character)\n",
    "\n",
    "# Print the set of characters \n",
    "print(characters)\n"
   ]
  },
  {
   "cell_type": "code",
   "execution_count": 2,
   "metadata": {},
   "outputs": [],
   "source": [
    "def get_bigram_freq(word1, word2):\n",
    "    return bigram_frequency_dist[(word1, word2)]\n",
    "\n",
    "def get_freq(word):\n",
    "    return frequency_dist[word]"
   ]
  },
  {
   "cell_type": "code",
   "execution_count": 3,
   "metadata": {},
   "outputs": [
    {
     "name": "stdout",
     "output_type": "stream",
     "text": [
      "Apple freq: 1168\n",
      "Apple tree:  10\n"
     ]
    }
   ],
   "source": [
    "print(\"Apple freq:\", get_freq('apple'))\n",
    "print(\"Apple tree: \", get_bigram_freq('apple', 'trees'))"
   ]
  },
  {
   "cell_type": "code",
   "execution_count": 24,
   "metadata": {},
   "outputs": [],
   "source": [
    "# Write the frequency data to a file\n",
    "with open('./frequency_data/word_freq.csv', 'w', encoding=\"utf-8\") as f:\n",
    "    for word in frequency_dist:\n",
    "        f.write(word + ',' + str(get_freq(word)) + '\\n')\n",
    "\n",
    "with open('./frequency_data/bigram_freq.csv', 'w', encoding=\"utf-8\") as f:\n",
    "    for bigram in bigram_frequency_dist:\n",
    "        f.write(bigram[0] + ',' + bigram[1] + ',' + str(get_bigram_freq(bigram[0], bigram[1])) + '\\n')"
   ]
  }
 ],
 "metadata": {
  "kernelspec": {
   "display_name": "Python 3",
   "language": "python",
   "name": "python3"
  },
  "language_info": {
   "codemirror_mode": {
    "name": "ipython",
    "version": 3
   },
   "file_extension": ".py",
   "mimetype": "text/x-python",
   "name": "python",
   "nbconvert_exporter": "python",
   "pygments_lexer": "ipython3",
   "version": "3.10.5"
  }
 },
 "nbformat": 4,
 "nbformat_minor": 2
}
