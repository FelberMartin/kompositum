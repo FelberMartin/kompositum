{
 "cells": [
  {
   "cell_type": "markdown",
   "metadata": {},
   "source": [
    "# Combine frequencies\n",
    "\n",
    "This notebook deals with combining the two frequency (derewo and de_web (from wortschatz leipzig)) datasets into one measure."
   ]
  },
  {
   "cell_type": "code",
   "execution_count": 1,
   "metadata": {},
   "outputs": [],
   "source": [
    "import pandas as pd\n",
    "import numpy as np\n",
    "import math"
   ]
  },
  {
   "cell_type": "code",
   "execution_count": 2,
   "metadata": {},
   "outputs": [
    {
     "name": "stderr",
     "output_type": "stream",
     "text": [
      "C:\\Users\\Martin\\AppData\\Local\\Temp\\ipykernel_20564\\3481599791.py:1: ParserWarning: Length of header or names does not match length of data. This leads to a loss of data with index_col=False.\n",
      "  df_derewo = pd.read_csv('frequency_data/derewo-v-ww-bll-250000g-2011-12-31-0.1/data_without_header.txt', sep=\" \", header=None, names=['word', 'freq_derewo'], index_col=False)\n"
     ]
    },
    {
     "data": {
      "text/plain": [
       "0          1\n",
       "2          4\n",
       "3         11\n",
       "4         26\n",
       "5         48\n",
       "6         82\n",
       "7        152\n",
       "8        314\n",
       "9        631\n",
       "10      1260\n",
       "11      2355\n",
       "12      4150\n",
       "13      6985\n",
       "14     11481\n",
       "15     18402\n",
       "16     28710\n",
       "17     43612\n",
       "18     64530\n",
       "19     93127\n",
       "20    128876\n",
       "21    170264\n",
       "22    211607\n",
       "23    254159\n",
       "Name: freq_derewo, dtype: int64"
      ]
     },
     "execution_count": 2,
     "metadata": {},
     "output_type": "execute_result"
    }
   ],
   "source": [
    "df_derewo = pd.read_csv('frequency_data/derewo-v-ww-bll-250000g-2011-12-31-0.1/data_without_header.txt', sep=\" \", header=None, names=['word', 'freq_derewo'], index_col=False)\n",
    "\n",
    "# Clip the max frequency_class to 23 (only a few compounds have a higher frequency)\n",
    "df_derewo['freq_derewo'] = df_derewo['freq_derewo'].clip(upper=23)\n",
    "\n",
    "df_derewo['freq_derewo'].value_counts().sort_index().cumsum()"
   ]
  },
  {
   "cell_type": "code",
   "execution_count": 3,
   "metadata": {},
   "outputs": [
    {
     "data": {
      "text/plain": [
       "0          3\n",
       "1          4\n",
       "2         19\n",
       "3         37\n",
       "4         60\n",
       "5        114\n",
       "6        245\n",
       "7        525\n",
       "8       1098\n",
       "9       2249\n",
       "10      4159\n",
       "11      7302\n",
       "12     12610\n",
       "13     21680\n",
       "14     36595\n",
       "15     61998\n",
       "16    100272\n",
       "17    183580\n",
       "18    276309\n",
       "19    694802\n",
       "Name: freq_de_web, dtype: int64"
      ]
     },
     "execution_count": 3,
     "metadata": {},
     "output_type": "execute_result"
    }
   ],
   "source": [
    "df_de_web = pd.read_csv('frequency_data/wortschatz-leipzig/deu-de_web_2021_1M-words.txt', sep=\"\\t\", header=None, names=['word', 'freq'])\n",
    "\n",
    "# Convert the absolute frequency to a logarithmic frequency class\n",
    "max_f = df_de_web['freq'].max()\n",
    "df_de_web['freq_de_web'] = df_de_web['freq'].apply(lambda x: int(math.floor(math.log2(max_f/x)+0.5)))\n",
    "df_de_web = df_de_web.drop(columns=['freq'])\n",
    "\n",
    "df_de_web['freq_de_web'].value_counts().sort_index().cumsum()"
   ]
  },
  {
   "cell_type": "code",
   "execution_count": 4,
   "metadata": {},
   "outputs": [
    {
     "data": {
      "text/html": [
       "<div>\n",
       "<style scoped>\n",
       "    .dataframe tbody tr th:only-of-type {\n",
       "        vertical-align: middle;\n",
       "    }\n",
       "\n",
       "    .dataframe tbody tr th {\n",
       "        vertical-align: top;\n",
       "    }\n",
       "\n",
       "    .dataframe thead th {\n",
       "        text-align: right;\n",
       "    }\n",
       "</style>\n",
       "<table border=\"1\" class=\"dataframe\">\n",
       "  <thead>\n",
       "    <tr style=\"text-align: right;\">\n",
       "      <th></th>\n",
       "      <th>word</th>\n",
       "      <th>freq_derewo</th>\n",
       "      <th>freq_de_web</th>\n",
       "      <th>freq_class</th>\n",
       "    </tr>\n",
       "  </thead>\n",
       "  <tbody>\n",
       "    <tr>\n",
       "      <th>0</th>\n",
       "      <td>der,die,das</td>\n",
       "      <td>0.0</td>\n",
       "      <td>23.0</td>\n",
       "      <td>23.0</td>\n",
       "    </tr>\n",
       "    <tr>\n",
       "      <th>1</th>\n",
       "      <td>der,die,das</td>\n",
       "      <td>3.0</td>\n",
       "      <td>23.0</td>\n",
       "      <td>26.0</td>\n",
       "    </tr>\n",
       "    <tr>\n",
       "      <th>2</th>\n",
       "      <td>und</td>\n",
       "      <td>2.0</td>\n",
       "      <td>0.0</td>\n",
       "      <td>2.0</td>\n",
       "    </tr>\n",
       "    <tr>\n",
       "      <th>3</th>\n",
       "      <td>in</td>\n",
       "      <td>2.0</td>\n",
       "      <td>1.0</td>\n",
       "      <td>3.0</td>\n",
       "    </tr>\n",
       "    <tr>\n",
       "      <th>4</th>\n",
       "      <td>sein</td>\n",
       "      <td>2.0</td>\n",
       "      <td>5.0</td>\n",
       "      <td>7.0</td>\n",
       "    </tr>\n",
       "    <tr>\n",
       "      <th>...</th>\n",
       "      <td>...</td>\n",
       "      <td>...</td>\n",
       "      <td>...</td>\n",
       "      <td>...</td>\n",
       "    </tr>\n",
       "    <tr>\n",
       "      <th>852155</th>\n",
       "      <td>﻿Aus</td>\n",
       "      <td>27.0</td>\n",
       "      <td>19.0</td>\n",
       "      <td>46.0</td>\n",
       "    </tr>\n",
       "    <tr>\n",
       "      <th>852156</th>\n",
       "      <td>﻿Beim</td>\n",
       "      <td>27.0</td>\n",
       "      <td>19.0</td>\n",
       "      <td>46.0</td>\n",
       "    </tr>\n",
       "    <tr>\n",
       "      <th>852157</th>\n",
       "      <td>﻿Digitalisierung</td>\n",
       "      <td>27.0</td>\n",
       "      <td>19.0</td>\n",
       "      <td>46.0</td>\n",
       "    </tr>\n",
       "    <tr>\n",
       "      <th>852158</th>\n",
       "      <td>﻿Überdosierung</td>\n",
       "      <td>27.0</td>\n",
       "      <td>19.0</td>\n",
       "      <td>46.0</td>\n",
       "    </tr>\n",
       "    <tr>\n",
       "      <th>852159</th>\n",
       "      <td></td>\n",
       "      <td>27.0</td>\n",
       "      <td>19.0</td>\n",
       "      <td>46.0</td>\n",
       "    </tr>\n",
       "  </tbody>\n",
       "</table>\n",
       "<p>852160 rows × 4 columns</p>\n",
       "</div>"
      ],
      "text/plain": [
       "                    word  freq_derewo  freq_de_web  freq_class\n",
       "0            der,die,das          0.0         23.0        23.0\n",
       "1            der,die,das          3.0         23.0        26.0\n",
       "2                    und          2.0          0.0         2.0\n",
       "3                     in          2.0          1.0         3.0\n",
       "4                   sein          2.0          5.0         7.0\n",
       "...                  ...          ...          ...         ...\n",
       "852155              ﻿Aus         27.0         19.0        46.0\n",
       "852156             ﻿Beim         27.0         19.0        46.0\n",
       "852157  ﻿Digitalisierung         27.0         19.0        46.0\n",
       "852158    ﻿Überdosierung         27.0         19.0        46.0\n",
       "852159                           27.0         19.0        46.0\n",
       "\n",
       "[852160 rows x 4 columns]"
      ]
     },
     "execution_count": 4,
     "metadata": {},
     "output_type": "execute_result"
    }
   ],
   "source": [
    "# Merge the two dataframes\n",
    "df = pd.merge(df_derewo, df_de_web, on='word', how='outer')\n",
    "\n",
    "nan_penalty = 4\n",
    "\n",
    "max_derevo = df['freq_derewo'].max()\n",
    "df['freq_derewo'] = df['freq_derewo'].fillna(max_derevo + nan_penalty)\n",
    "\n",
    "max_web = df['freq_de_web'].max()\n",
    "df['freq_de_web'] = df['freq_de_web'].fillna(max_web + nan_penalty)\n",
    "\n",
    "df['freq_class'] = df['freq_derewo'] + df['freq_de_web']\n",
    "df\n"
   ]
  },
  {
   "cell_type": "code",
   "execution_count": 5,
   "metadata": {},
   "outputs": [],
   "source": [
    "# Remove duplicates\n",
    "df = df.drop_duplicates(subset=['word'])\n",
    "\n",
    "assert df['word'].duplicated().sum() == 0"
   ]
  },
  {
   "cell_type": "code",
   "execution_count": 6,
   "metadata": {},
   "outputs": [],
   "source": [
    "# Save the data\n",
    "df.to_csv('frequency_data/combined_freq_class.csv', index=False)"
   ]
  }
 ],
 "metadata": {
  "kernelspec": {
   "display_name": "Python 3",
   "language": "python",
   "name": "python3"
  },
  "language_info": {
   "codemirror_mode": {
    "name": "ipython",
    "version": 3
   },
   "file_extension": ".py",
   "mimetype": "text/x-python",
   "name": "python",
   "nbconvert_exporter": "python",
   "pygments_lexer": "ipython3",
   "version": "3.10.5"
  }
 },
 "nbformat": 4,
 "nbformat_minor": 2
}
